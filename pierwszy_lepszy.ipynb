{
  "nbformat": 4,
  "nbformat_minor": 0,
  "metadata": {
    "colab": {
      "name": "pierwszy_lepszy.ipynb",
      "provenance": [],
      "authorship_tag": "ABX9TyNz6JRNal4EMLirmvA603sr",
      "include_colab_link": true
    },
    "kernelspec": {
      "name": "python3",
      "display_name": "Python 3"
    }
  },
  "cells": [
    {
      "cell_type": "markdown",
      "metadata": {
        "id": "view-in-github",
        "colab_type": "text"
      },
      "source": [
        "<a href=\"https://colab.research.google.com/github/RadoslawRzepka/data-science/blob/master/pierwszy_lepszy.ipynb\" target=\"_parent\"><img src=\"https://colab.research.google.com/assets/colab-badge.svg\" alt=\"Open In Colab\"/></a>"
      ]
    },
    {
      "cell_type": "code",
      "metadata": {
        "id": "qljdU_N3xXZE",
        "colab_type": "code",
        "outputId": "060b47f8-5a48-4204-88d0-19838ec699c2",
        "colab": {
          "base_uri": "https://localhost:8080/",
          "height": 54
        }
      },
      "source": [
        " print('Witam na początku drogi do zostania Data Scientist\\nRadosław Rzepka')"
      ],
      "execution_count": 0,
      "outputs": [
        {
          "output_type": "stream",
          "text": [
            "Witam na początku drogi do zostania Data Scientist\n",
            "Radosław Rzepka\n"
          ],
          "name": "stdout"
        }
      ]
    },
    {
      "cell_type": "code",
      "metadata": {
        "id": "_OEgP7NgytsZ",
        "colab_type": "code",
        "outputId": "7a77f5c7-8e0a-4797-ccda-405d190b2080",
        "colab": {
          "base_uri": "https://localhost:8080/",
          "height": 35
        }
      },
      "source": [
        "nowaZmienna = int(10)\n",
        "print(nowaZmienna)"
      ],
      "execution_count": 0,
      "outputs": [
        {
          "output_type": "stream",
          "text": [
            "10\n"
          ],
          "name": "stdout"
        }
      ]
    }
  ]
}